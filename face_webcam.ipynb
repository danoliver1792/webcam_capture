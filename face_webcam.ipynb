{
  "nbformat": 4,
  "nbformat_minor": 0,
  "metadata": {
    "colab": {
      "provenance": [],
      "authorship_tag": "ABX9TyMFt6H5sLpMbr3cM4QfdWI7"
    },
    "kernelspec": {
      "name": "python3",
      "display_name": "Python 3"
    },
    "language_info": {
      "name": "python"
    }
  },
  "cells": [
    {
      "cell_type": "code",
      "execution_count": 1,
      "metadata": {
        "id": "nzvNGHT0oYdR"
      },
      "outputs": [],
      "source": [
        "import cv2"
      ]
    },
    {
      "cell_type": "code",
      "source": [
        "# capturing the main webcam\n",
        "video_capture = cv2.VideoCapture(0)\n",
        "\n",
        "# identifying the face\n",
        "face_cascade = cv2.CascadeClassifier(cv2.data.haarcascades + \n",
        "                                     'haarcascade_frontalface_default.xml')\n",
        "\n",
        "# identifying the smile\n",
        "smile_cascade = cv2.CascadeClassifier(cv2.data.haarcascades + \n",
        "                                      'haarcascade_smile.xml')\n",
        "\n",
        "# identifying the eyes\n",
        "eyes_cascade = cv2.CascadeClassifier(cv2.data.haarcascades + \n",
        "                                     'haarcascade_eye.xml')\n",
        "\n",
        "while True:\n",
        "    ret, frame = video_capture.read()\n",
        "    \n",
        "    # transforming the frame to grayscale\n",
        "    gray = cv2.cvtColor(frame, cv2.COLOR_BGR2GRAY)\n",
        "    \n",
        "    # detecting the face\n",
        "    faces = face_cascade.detectMultiScale(\n",
        "        gray,\n",
        "        scaleFactor=1.1,\n",
        "        minNeighbors=5,\n",
        "        minSize=(30, 30)\n",
        "    )\n",
        "    \n",
        "    for (x, y, w, h) in faces:\n",
        "        cv2.rectangle(frame, (x, y), (x + w, y + h), (0, 255, 0), 2)\n",
        "    \n",
        "    # detecting the eyes\n",
        "    eyes = eyes_cascade.detectMultiScale(\n",
        "        gray,\n",
        "        1.2,\n",
        "        18\n",
        "    )\n",
        "    \n",
        "    for (x, y, w, h) in eyes:\n",
        "        cv2.rectangle(frame, (x, y), (x + w, y + h), (255, 0, 0), 2)\n",
        "    \n",
        "    # detecting the smile\n",
        "    smile = smile_cascade.detectMultiScale(\n",
        "        gray,\n",
        "        1.7,\n",
        "        20\n",
        "    )\n",
        "    \n",
        "    for (x, y, w, h) in smile:\n",
        "        cv2.rectangle(frame, (x, y), (x + w, y + h), (0, 0, 255), 2)\n",
        "    \n",
        "    cv2.imshow('video', frame)\n",
        "    # The camera is turned off with the q key\n",
        "    if cv2.waitKey(1) & 0xFF == ord('q'):\n",
        "        break\n",
        "        \n",
        "video_capture.release()\n",
        "cv2.destroyAllWindows()\n"
      ],
      "metadata": {
        "id": "S_qlMIjFodtX"
      },
      "execution_count": null,
      "outputs": []
    }
  ]
}