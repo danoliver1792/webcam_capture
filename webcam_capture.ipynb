{
  "nbformat": 4,
  "nbformat_minor": 0,
  "metadata": {
    "colab": {
      "provenance": [],
      "authorship_tag": "ABX9TyMHRf6M+5bxcgVCgZ96y36S"
    },
    "kernelspec": {
      "name": "python3",
      "display_name": "Python 3"
    },
    "language_info": {
      "name": "python"
    }
  },
  "cells": [
    {
      "cell_type": "markdown",
      "source": [
        "Nosso reconhecimento de imagens vai trabalhar em duas etapas:\n",
        "1. Controle da webcam do computador com OpenCv;\n",
        "2. Reconhecimento do rosto com MediaPipe\n",
        "\n",
        "Iremos utilizar as bibliotecas OpenCv e MediaPipe"
      ],
      "metadata": {
        "id": "AnC-sz5-acvb"
      }
    },
    {
      "cell_type": "code",
      "source": [
        "# !pip install mediapipe"
      ],
      "metadata": {
        "id": "SKbH4KcceDK5"
      },
      "execution_count": null,
      "outputs": []
    },
    {
      "cell_type": "code",
      "source": [
        "import cv2\n",
        "import mediapipe as mp"
      ],
      "metadata": {
        "id": "JvwVd17cbb2B"
      },
      "execution_count": null,
      "outputs": []
    },
    {
      "cell_type": "code",
      "source": [
        "webcam = cv2.VideoCapture(0)\n",
        "solucao_reconhecimento_rosto = mp.solutions.face_detection\n",
        "reconhecedor_rostos = solucao_reconhecimento_rosto.FaceDetection()\n",
        "desenho = mp.solutions.drawing_utils"
      ],
      "metadata": {
        "id": "LLjRmIixb0zj"
      },
      "execution_count": null,
      "outputs": []
    },
    {
      "cell_type": "code",
      "source": [
        "while True:\n",
        "  # lendo as informações da webcam\n",
        "  verificador, frame = webcam.read()\n",
        "\n",
        "  if not verificador:\n",
        "    break\n",
        "  \n",
        "  # reconhecimento dos rostos\n",
        "  lista_rostos = reconhecedor_rostos.process(frame)\n",
        "\n",
        "  if lista_rostos.detections:\n",
        "    for rosto in lista_rostos.detections:\n",
        "      desenho.draw_detection(frame, rosto)\n",
        "\n",
        "  cv2.inshow(\"Detectando rostos...\", frame)\n",
        "\n",
        "  # milisegundos de espera entre as execuções, 27 é a tecla ESC\n",
        "  if cv2.waitKey(5) == 27:\n",
        "    break\n",
        "\n",
        "webcam.release()\n"
      ],
      "metadata": {
        "id": "lzJiMMmYd1xL"
      },
      "execution_count": null,
      "outputs": []
    }
  ]
}